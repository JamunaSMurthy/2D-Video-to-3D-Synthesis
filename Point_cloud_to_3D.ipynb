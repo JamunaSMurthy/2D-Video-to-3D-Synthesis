{
  "nbformat": 4,
  "nbformat_minor": 0,
  "metadata": {
    "colab": {
      "provenance": []
    },
    "kernelspec": {
      "name": "python3",
      "display_name": "Python 3"
    },
    "language_info": {
      "name": "python"
    }
  },
  "cells": [
    {
      "cell_type": "code",
      "execution_count": null,
      "metadata": {
        "colab": {
          "base_uri": "https://localhost:8080/"
        },
        "id": "EjiaHr700Kpa",
        "outputId": "020b761a-7fd7-446c-9c77-5840a6721bbf",
        "collapsed": true
      },
      "outputs": [
        {
          "output_type": "stream",
          "name": "stdout",
          "text": [
            "Collecting open3d\n",
            "  Downloading open3d-0.18.0-cp310-cp310-manylinux_2_27_x86_64.whl.metadata (4.2 kB)\n",
            "Requirement already satisfied: numpy>=1.18.0 in /usr/local/lib/python3.10/dist-packages (from open3d) (1.26.4)\n",
            "Collecting dash>=2.6.0 (from open3d)\n",
            "  Downloading dash-2.18.2-py3-none-any.whl.metadata (10 kB)\n",
            "Requirement already satisfied: werkzeug>=2.2.3 in /usr/local/lib/python3.10/dist-packages (from open3d) (3.1.3)\n",
            "Requirement already satisfied: nbformat>=5.7.0 in /usr/local/lib/python3.10/dist-packages (from open3d) (5.10.4)\n",
            "Collecting configargparse (from open3d)\n",
            "  Downloading ConfigArgParse-1.7-py3-none-any.whl.metadata (23 kB)\n",
            "Collecting ipywidgets>=8.0.4 (from open3d)\n",
            "  Downloading ipywidgets-8.1.5-py3-none-any.whl.metadata (2.3 kB)\n",
            "Collecting addict (from open3d)\n",
            "  Downloading addict-2.4.0-py3-none-any.whl.metadata (1.0 kB)\n",
            "Requirement already satisfied: pillow>=9.3.0 in /usr/local/lib/python3.10/dist-packages (from open3d) (11.0.0)\n",
            "Requirement already satisfied: matplotlib>=3 in /usr/local/lib/python3.10/dist-packages (from open3d) (3.8.0)\n",
            "Requirement already satisfied: pandas>=1.0 in /usr/local/lib/python3.10/dist-packages (from open3d) (2.2.2)\n",
            "Requirement already satisfied: pyyaml>=5.4.1 in /usr/local/lib/python3.10/dist-packages (from open3d) (6.0.2)\n",
            "Requirement already satisfied: scikit-learn>=0.21 in /usr/local/lib/python3.10/dist-packages (from open3d) (1.6.0)\n",
            "Requirement already satisfied: tqdm in /usr/local/lib/python3.10/dist-packages (from open3d) (4.67.1)\n",
            "Collecting pyquaternion (from open3d)\n",
            "  Downloading pyquaternion-0.9.9-py3-none-any.whl.metadata (1.4 kB)\n",
            "Collecting Flask<3.1,>=1.0.4 (from dash>=2.6.0->open3d)\n",
            "  Downloading flask-3.0.3-py3-none-any.whl.metadata (3.2 kB)\n",
            "Collecting werkzeug>=2.2.3 (from open3d)\n",
            "  Downloading werkzeug-3.0.6-py3-none-any.whl.metadata (3.7 kB)\n",
            "Requirement already satisfied: plotly>=5.0.0 in /usr/local/lib/python3.10/dist-packages (from dash>=2.6.0->open3d) (5.24.1)\n",
            "Collecting dash-html-components==2.0.0 (from dash>=2.6.0->open3d)\n",
            "  Downloading dash_html_components-2.0.0-py3-none-any.whl.metadata (3.8 kB)\n",
            "Collecting dash-core-components==2.0.0 (from dash>=2.6.0->open3d)\n",
            "  Downloading dash_core_components-2.0.0-py3-none-any.whl.metadata (2.9 kB)\n",
            "Collecting dash-table==5.0.0 (from dash>=2.6.0->open3d)\n",
            "  Downloading dash_table-5.0.0-py3-none-any.whl.metadata (2.4 kB)\n",
            "Requirement already satisfied: importlib-metadata in /usr/local/lib/python3.10/dist-packages (from dash>=2.6.0->open3d) (8.5.0)\n",
            "Requirement already satisfied: typing-extensions>=4.1.1 in /usr/local/lib/python3.10/dist-packages (from dash>=2.6.0->open3d) (4.12.2)\n",
            "Requirement already satisfied: requests in /usr/local/lib/python3.10/dist-packages (from dash>=2.6.0->open3d) (2.32.3)\n",
            "Collecting retrying (from dash>=2.6.0->open3d)\n",
            "  Downloading retrying-1.3.4-py3-none-any.whl.metadata (6.9 kB)\n",
            "Requirement already satisfied: nest-asyncio in /usr/local/lib/python3.10/dist-packages (from dash>=2.6.0->open3d) (1.6.0)\n",
            "Requirement already satisfied: setuptools in /usr/local/lib/python3.10/dist-packages (from dash>=2.6.0->open3d) (75.1.0)\n",
            "Collecting comm>=0.1.3 (from ipywidgets>=8.0.4->open3d)\n",
            "  Downloading comm-0.2.2-py3-none-any.whl.metadata (3.7 kB)\n",
            "Requirement already satisfied: ipython>=6.1.0 in /usr/local/lib/python3.10/dist-packages (from ipywidgets>=8.0.4->open3d) (7.34.0)\n",
            "Requirement already satisfied: traitlets>=4.3.1 in /usr/local/lib/python3.10/dist-packages (from ipywidgets>=8.0.4->open3d) (5.7.1)\n",
            "Collecting widgetsnbextension~=4.0.12 (from ipywidgets>=8.0.4->open3d)\n",
            "  Downloading widgetsnbextension-4.0.13-py3-none-any.whl.metadata (1.6 kB)\n",
            "Requirement already satisfied: jupyterlab-widgets~=3.0.12 in /usr/local/lib/python3.10/dist-packages (from ipywidgets>=8.0.4->open3d) (3.0.13)\n",
            "Requirement already satisfied: contourpy>=1.0.1 in /usr/local/lib/python3.10/dist-packages (from matplotlib>=3->open3d) (1.3.1)\n",
            "Requirement already satisfied: cycler>=0.10 in /usr/local/lib/python3.10/dist-packages (from matplotlib>=3->open3d) (0.12.1)\n",
            "Requirement already satisfied: fonttools>=4.22.0 in /usr/local/lib/python3.10/dist-packages (from matplotlib>=3->open3d) (4.55.3)\n",
            "Requirement already satisfied: kiwisolver>=1.0.1 in /usr/local/lib/python3.10/dist-packages (from matplotlib>=3->open3d) (1.4.7)\n",
            "Requirement already satisfied: packaging>=20.0 in /usr/local/lib/python3.10/dist-packages (from matplotlib>=3->open3d) (24.2)\n",
            "Requirement already satisfied: pyparsing>=2.3.1 in /usr/local/lib/python3.10/dist-packages (from matplotlib>=3->open3d) (3.2.0)\n",
            "Requirement already satisfied: python-dateutil>=2.7 in /usr/local/lib/python3.10/dist-packages (from matplotlib>=3->open3d) (2.8.2)\n",
            "Requirement already satisfied: fastjsonschema>=2.15 in /usr/local/lib/python3.10/dist-packages (from nbformat>=5.7.0->open3d) (2.21.1)\n",
            "Requirement already satisfied: jsonschema>=2.6 in /usr/local/lib/python3.10/dist-packages (from nbformat>=5.7.0->open3d) (4.23.0)\n",
            "Requirement already satisfied: jupyter-core!=5.0.*,>=4.12 in /usr/local/lib/python3.10/dist-packages (from nbformat>=5.7.0->open3d) (5.7.2)\n",
            "Requirement already satisfied: pytz>=2020.1 in /usr/local/lib/python3.10/dist-packages (from pandas>=1.0->open3d) (2024.2)\n",
            "Requirement already satisfied: tzdata>=2022.7 in /usr/local/lib/python3.10/dist-packages (from pandas>=1.0->open3d) (2024.2)\n",
            "Requirement already satisfied: scipy>=1.6.0 in /usr/local/lib/python3.10/dist-packages (from scikit-learn>=0.21->open3d) (1.13.1)\n",
            "Requirement already satisfied: joblib>=1.2.0 in /usr/local/lib/python3.10/dist-packages (from scikit-learn>=0.21->open3d) (1.4.2)\n",
            "Requirement already satisfied: threadpoolctl>=3.1.0 in /usr/local/lib/python3.10/dist-packages (from scikit-learn>=0.21->open3d) (3.5.0)\n",
            "Requirement already satisfied: MarkupSafe>=2.1.1 in /usr/local/lib/python3.10/dist-packages (from werkzeug>=2.2.3->open3d) (3.0.2)\n",
            "Requirement already satisfied: Jinja2>=3.1.2 in /usr/local/lib/python3.10/dist-packages (from Flask<3.1,>=1.0.4->dash>=2.6.0->open3d) (3.1.4)\n",
            "Requirement already satisfied: itsdangerous>=2.1.2 in /usr/local/lib/python3.10/dist-packages (from Flask<3.1,>=1.0.4->dash>=2.6.0->open3d) (2.2.0)\n",
            "Requirement already satisfied: click>=8.1.3 in /usr/local/lib/python3.10/dist-packages (from Flask<3.1,>=1.0.4->dash>=2.6.0->open3d) (8.1.7)\n",
            "Requirement already satisfied: blinker>=1.6.2 in /usr/local/lib/python3.10/dist-packages (from Flask<3.1,>=1.0.4->dash>=2.6.0->open3d) (1.9.0)\n",
            "Collecting jedi>=0.16 (from ipython>=6.1.0->ipywidgets>=8.0.4->open3d)\n",
            "  Downloading jedi-0.19.2-py2.py3-none-any.whl.metadata (22 kB)\n",
            "Requirement already satisfied: decorator in /usr/local/lib/python3.10/dist-packages (from ipython>=6.1.0->ipywidgets>=8.0.4->open3d) (4.4.2)\n",
            "Requirement already satisfied: pickleshare in /usr/local/lib/python3.10/dist-packages (from ipython>=6.1.0->ipywidgets>=8.0.4->open3d) (0.7.5)\n",
            "Requirement already satisfied: prompt-toolkit!=3.0.0,!=3.0.1,<3.1.0,>=2.0.0 in /usr/local/lib/python3.10/dist-packages (from ipython>=6.1.0->ipywidgets>=8.0.4->open3d) (3.0.48)\n",
            "Requirement already satisfied: pygments in /usr/local/lib/python3.10/dist-packages (from ipython>=6.1.0->ipywidgets>=8.0.4->open3d) (2.18.0)\n",
            "Requirement already satisfied: backcall in /usr/local/lib/python3.10/dist-packages (from ipython>=6.1.0->ipywidgets>=8.0.4->open3d) (0.2.0)\n",
            "Requirement already satisfied: matplotlib-inline in /usr/local/lib/python3.10/dist-packages (from ipython>=6.1.0->ipywidgets>=8.0.4->open3d) (0.1.7)\n",
            "Requirement already satisfied: pexpect>4.3 in /usr/local/lib/python3.10/dist-packages (from ipython>=6.1.0->ipywidgets>=8.0.4->open3d) (4.9.0)\n",
            "Requirement already satisfied: attrs>=22.2.0 in /usr/local/lib/python3.10/dist-packages (from jsonschema>=2.6->nbformat>=5.7.0->open3d) (24.3.0)\n",
            "Requirement already satisfied: jsonschema-specifications>=2023.03.6 in /usr/local/lib/python3.10/dist-packages (from jsonschema>=2.6->nbformat>=5.7.0->open3d) (2024.10.1)\n",
            "Requirement already satisfied: referencing>=0.28.4 in /usr/local/lib/python3.10/dist-packages (from jsonschema>=2.6->nbformat>=5.7.0->open3d) (0.35.1)\n",
            "Requirement already satisfied: rpds-py>=0.7.1 in /usr/local/lib/python3.10/dist-packages (from jsonschema>=2.6->nbformat>=5.7.0->open3d) (0.22.3)\n",
            "Requirement already satisfied: platformdirs>=2.5 in /usr/local/lib/python3.10/dist-packages (from jupyter-core!=5.0.*,>=4.12->nbformat>=5.7.0->open3d) (4.3.6)\n",
            "Requirement already satisfied: tenacity>=6.2.0 in /usr/local/lib/python3.10/dist-packages (from plotly>=5.0.0->dash>=2.6.0->open3d) (9.0.0)\n",
            "Requirement already satisfied: six>=1.5 in /usr/local/lib/python3.10/dist-packages (from python-dateutil>=2.7->matplotlib>=3->open3d) (1.17.0)\n",
            "Requirement already satisfied: zipp>=3.20 in /usr/local/lib/python3.10/dist-packages (from importlib-metadata->dash>=2.6.0->open3d) (3.21.0)\n",
            "Requirement already satisfied: charset-normalizer<4,>=2 in /usr/local/lib/python3.10/dist-packages (from requests->dash>=2.6.0->open3d) (3.4.0)\n",
            "Requirement already satisfied: idna<4,>=2.5 in /usr/local/lib/python3.10/dist-packages (from requests->dash>=2.6.0->open3d) (3.10)\n",
            "Requirement already satisfied: urllib3<3,>=1.21.1 in /usr/local/lib/python3.10/dist-packages (from requests->dash>=2.6.0->open3d) (2.2.3)\n",
            "Requirement already satisfied: certifi>=2017.4.17 in /usr/local/lib/python3.10/dist-packages (from requests->dash>=2.6.0->open3d) (2024.12.14)\n",
            "Requirement already satisfied: parso<0.9.0,>=0.8.4 in /usr/local/lib/python3.10/dist-packages (from jedi>=0.16->ipython>=6.1.0->ipywidgets>=8.0.4->open3d) (0.8.4)\n",
            "Requirement already satisfied: ptyprocess>=0.5 in /usr/local/lib/python3.10/dist-packages (from pexpect>4.3->ipython>=6.1.0->ipywidgets>=8.0.4->open3d) (0.7.0)\n",
            "Requirement already satisfied: wcwidth in /usr/local/lib/python3.10/dist-packages (from prompt-toolkit!=3.0.0,!=3.0.1,<3.1.0,>=2.0.0->ipython>=6.1.0->ipywidgets>=8.0.4->open3d) (0.2.13)\n",
            "Downloading open3d-0.18.0-cp310-cp310-manylinux_2_27_x86_64.whl (399.7 MB)\n",
            "\u001b[2K   \u001b[90m━━━━━━━━━━━━━━━━━━━━━━━━━━━━━━━━━━━━━━━━\u001b[0m \u001b[32m399.7/399.7 MB\u001b[0m \u001b[31m3.7 MB/s\u001b[0m eta \u001b[36m0:00:00\u001b[0m\n",
            "\u001b[?25hDownloading dash-2.18.2-py3-none-any.whl (7.8 MB)\n",
            "\u001b[2K   \u001b[90m━━━━━━━━━━━━━━━━━━━━━━━━━━━━━━━━━━━━━━━━\u001b[0m \u001b[32m7.8/7.8 MB\u001b[0m \u001b[31m92.6 MB/s\u001b[0m eta \u001b[36m0:00:00\u001b[0m\n",
            "\u001b[?25hDownloading dash_core_components-2.0.0-py3-none-any.whl (3.8 kB)\n",
            "Downloading dash_html_components-2.0.0-py3-none-any.whl (4.1 kB)\n",
            "Downloading dash_table-5.0.0-py3-none-any.whl (3.9 kB)\n",
            "Downloading ipywidgets-8.1.5-py3-none-any.whl (139 kB)\n",
            "\u001b[2K   \u001b[90m━━━━━━━━━━━━━━━━━━━━━━━━━━━━━━━━━━━━━━━━\u001b[0m \u001b[32m139.8/139.8 kB\u001b[0m \u001b[31m8.5 MB/s\u001b[0m eta \u001b[36m0:00:00\u001b[0m\n",
            "\u001b[?25hDownloading werkzeug-3.0.6-py3-none-any.whl (227 kB)\n",
            "\u001b[2K   \u001b[90m━━━━━━━━━━━━━━━━━━━━━━━━━━━━━━━━━━━━━━━━\u001b[0m \u001b[32m228.0/228.0 kB\u001b[0m \u001b[31m15.0 MB/s\u001b[0m eta \u001b[36m0:00:00\u001b[0m\n",
            "\u001b[?25hDownloading addict-2.4.0-py3-none-any.whl (3.8 kB)\n",
            "Downloading ConfigArgParse-1.7-py3-none-any.whl (25 kB)\n",
            "Downloading pyquaternion-0.9.9-py3-none-any.whl (14 kB)\n",
            "Downloading comm-0.2.2-py3-none-any.whl (7.2 kB)\n",
            "Downloading flask-3.0.3-py3-none-any.whl (101 kB)\n",
            "\u001b[2K   \u001b[90m━━━━━━━━━━━━━━━━━━━━━━━━━━━━━━━━━━━━━━━━\u001b[0m \u001b[32m101.7/101.7 kB\u001b[0m \u001b[31m6.9 MB/s\u001b[0m eta \u001b[36m0:00:00\u001b[0m\n",
            "\u001b[?25hDownloading widgetsnbextension-4.0.13-py3-none-any.whl (2.3 MB)\n",
            "\u001b[2K   \u001b[90m━━━━━━━━━━━━━━━━━━━━━━━━━━━━━━━━━━━━━━━━\u001b[0m \u001b[32m2.3/2.3 MB\u001b[0m \u001b[31m61.9 MB/s\u001b[0m eta \u001b[36m0:00:00\u001b[0m\n",
            "\u001b[?25hDownloading retrying-1.3.4-py3-none-any.whl (11 kB)\n",
            "Downloading jedi-0.19.2-py2.py3-none-any.whl (1.6 MB)\n",
            "\u001b[2K   \u001b[90m━━━━━━━━━━━━━━━━━━━━━━━━━━━━━━━━━━━━━━━━\u001b[0m \u001b[32m1.6/1.6 MB\u001b[0m \u001b[31m56.7 MB/s\u001b[0m eta \u001b[36m0:00:00\u001b[0m\n",
            "\u001b[?25hInstalling collected packages: dash-table, dash-html-components, dash-core-components, addict, widgetsnbextension, werkzeug, retrying, pyquaternion, jedi, configargparse, comm, Flask, ipywidgets, dash, open3d\n",
            "  Attempting uninstall: widgetsnbextension\n",
            "    Found existing installation: widgetsnbextension 3.6.10\n",
            "    Uninstalling widgetsnbextension-3.6.10:\n",
            "      Successfully uninstalled widgetsnbextension-3.6.10\n",
            "  Attempting uninstall: werkzeug\n",
            "    Found existing installation: Werkzeug 3.1.3\n",
            "    Uninstalling Werkzeug-3.1.3:\n",
            "      Successfully uninstalled Werkzeug-3.1.3\n",
            "  Attempting uninstall: Flask\n",
            "    Found existing installation: Flask 3.1.0\n",
            "    Uninstalling Flask-3.1.0:\n",
            "      Successfully uninstalled Flask-3.1.0\n",
            "  Attempting uninstall: ipywidgets\n",
            "    Found existing installation: ipywidgets 7.7.1\n",
            "    Uninstalling ipywidgets-7.7.1:\n",
            "      Successfully uninstalled ipywidgets-7.7.1\n",
            "Successfully installed Flask-3.0.3 addict-2.4.0 comm-0.2.2 configargparse-1.7 dash-2.18.2 dash-core-components-2.0.0 dash-html-components-2.0.0 dash-table-5.0.0 ipywidgets-8.1.5 jedi-0.19.2 open3d-0.18.0 pyquaternion-0.9.9 retrying-1.3.4 werkzeug-3.0.6 widgetsnbextension-4.0.13\n"
          ]
        }
      ],
      "source": [
        "!pip install open3d"
      ]
    },
    {
      "cell_type": "code",
      "source": [
        "import torch\n",
        "import torch.nn as nn\n",
        "import numpy as np\n",
        "import open3d as o3d\n",
        "from tqdm import tqdm\n",
        "import os\n",
        "import glob\n",
        "import cv2\n",
        "from pathlib import Path\n",
        "\n",
        "class PointCloudRenderer(nn.Module):\n",
        "    def __init__(self, img_height=394, img_width=526, hidden_dim=32):\n",
        "        super().__init__()\n",
        "        self.img_height = img_height\n",
        "        self.img_width = img_width\n",
        "\n",
        "        self.feature_net = nn.Sequential(\n",
        "            nn.Linear(6, hidden_dim),\n",
        "            nn.ReLU(),\n",
        "            nn.Linear(hidden_dim, hidden_dim)\n",
        "        )\n",
        "\n",
        "        self.renderer = nn.Sequential(\n",
        "            nn.Linear(hidden_dim + 3, hidden_dim),\n",
        "            nn.ReLU(),\n",
        "            nn.Linear(hidden_dim, 3),\n",
        "            nn.Sigmoid()\n",
        "        )\n",
        "\n",
        "    @staticmethod\n",
        "    def project_points(points, camera_pos, camera_dir, img_width, img_height):\n",
        "        focal_length = 800\n",
        "        principal_point = np.array([img_width/2, img_height/2])\n",
        "\n",
        "        camera_up = np.array([0, -1, 0])\n",
        "        camera_right = np.cross(camera_dir, camera_up)\n",
        "        camera_up = np.cross(camera_right, camera_dir)\n",
        "\n",
        "        R = np.stack([\n",
        "            camera_right / np.linalg.norm(camera_right),\n",
        "            camera_up / np.linalg.norm(camera_up),\n",
        "            camera_dir / np.linalg.norm(camera_dir)\n",
        "        ], axis=1)\n",
        "\n",
        "        points_cam = (points - camera_pos) @ R\n",
        "        valid_mask = points_cam[:, 2] > 0\n",
        "        points_cam = points_cam[valid_mask]\n",
        "\n",
        "        if len(points_cam) == 0:\n",
        "            return None, None, valid_mask\n",
        "\n",
        "        points_2d = points_cam[:, :2] / points_cam[:, 2:3] * focal_length + principal_point\n",
        "        return points_2d, points_cam[:, 2], valid_mask\n",
        "\n",
        "def render_frame(points, colors, camera, img_width, img_height):\n",
        "    image_coords, depths, valid_mask = PointCloudRenderer.project_points(\n",
        "        points, camera['position'], camera['direction'], img_width, img_height\n",
        "    )\n",
        "\n",
        "    if image_coords is None:\n",
        "        return np.zeros((img_height, img_width, 3))\n",
        "\n",
        "    frame = np.zeros((img_height, img_width, 3))\n",
        "    depth_buffer = np.full((img_height, img_width), np.inf)\n",
        "\n",
        "    image_coords = np.clip(image_coords, 0, [img_width-1, img_height-1]).astype(int)\n",
        "\n",
        "    for idx in range(len(image_coords)):\n",
        "        x, y = image_coords[idx]\n",
        "        if 0 <= y < img_height and 0 <= x < img_width:\n",
        "            if depths[idx] < depth_buffer[y, x]:\n",
        "                frame[y, x] = colors[valid_mask][idx]\n",
        "                depth_buffer[y, x] = depths[idx]\n",
        "\n",
        "    frame = cv2.GaussianBlur(frame, (3, 3), 0)\n",
        "    return frame\n",
        "\n",
        "def load_point_cloud(file_path):\n",
        "    pcd = o3d.io.read_point_cloud(file_path)\n",
        "\n",
        "    points = np.asarray(pcd.points)\n",
        "    colors = np.asarray(pcd.colors)\n",
        "\n",
        "    if len(points) == 0:\n",
        "        raise ValueError(f\"No points found in {file_path}\")\n",
        "\n",
        "    center = np.mean(points, axis=0)\n",
        "    points = points - center\n",
        "\n",
        "    points = points * np.array([1, -1, 1])\n",
        "\n",
        "    scale = np.max(np.abs(points))\n",
        "    points = points / (scale * 2)\n",
        "\n",
        "    return points, colors\n",
        "\n",
        "def generate_camera_movement(n_frames):\n",
        "    radius = 2.0\n",
        "    height = 0.2\n",
        "    orbit_angle = 60\n",
        "\n",
        "    orbit_rad = np.radians(orbit_angle)\n",
        "\n",
        "    t = np.linspace(0, 2 * np.pi, n_frames)\n",
        "    angles = -(orbit_rad/2) * np.cos(t)\n",
        "\n",
        "    cameras = []\n",
        "\n",
        "    for angle in angles:\n",
        "        x = radius * np.sin(angle)\n",
        "        z = radius * np.cos(angle)\n",
        "        pos = np.array([x, height, z])\n",
        "\n",
        "        direction = -pos / np.linalg.norm(pos)\n",
        "\n",
        "        cameras.append({\n",
        "            'position': pos,\n",
        "            'direction': direction\n",
        "        })\n",
        "\n",
        "    return cameras\n",
        "\n",
        "def create_3d_video(input_folder, output_path, img_width=480, img_height=270):\n",
        "    ply_files = sorted(glob.glob(os.path.join(input_folder, '*.ply')))\n",
        "    if not ply_files:\n",
        "        raise ValueError(f\"No PLY files found in {input_folder}\")\n",
        "\n",
        "    print(\"Loading first point cloud to check coordinates...\")\n",
        "    points, _ = load_point_cloud(ply_files[0])\n",
        "    print(f\"\\nPoint cloud bounds after processing:\")\n",
        "    print(f\"X: [{points[:,0].min():.2f}, {points[:,0].max():.2f}]\")\n",
        "    print(f\"Y: [{points[:,1].min():.2f}, {points[:,1].max():.2f}]\")\n",
        "    print(f\"Z: [{points[:,2].min():.2f}, {points[:,2].max():.2f}]\")\n",
        "\n",
        "    cameras = generate_camera_movement(len(ply_files))\n",
        "\n",
        "    fourcc = cv2.VideoWriter_fourcc(*'mp4v')\n",
        "    video_writer = cv2.VideoWriter(\n",
        "        output_path,\n",
        "        fourcc,\n",
        "        30,\n",
        "        (img_width, img_height)\n",
        "    )\n",
        "\n",
        "    for ply_file, camera in tqdm(zip(ply_files, cameras), total=len(ply_files), desc=\"Processing frames\"):\n",
        "        try:\n",
        "            points, colors = load_point_cloud(ply_file)\n",
        "            frame = render_frame(points, colors, camera, img_width, img_height)\n",
        "            frame_rgb = (np.clip(frame, 0, 1) * 255).astype(np.uint8)\n",
        "            video_writer.write(cv2.cvtColor(frame_rgb, cv2.COLOR_RGB2BGR))\n",
        "\n",
        "        except Exception as e:\n",
        "            print(f\"Error processing {ply_file}: {e}\")\n",
        "            continue\n",
        "\n",
        "    video_writer.release()\n",
        "    print(f\"Video saved as: {output_path}\")\n",
        "\n",
        "if __name__ == \"__main__\":\n",
        "    input_folder = '/content/drive/MyDrive/point_clouds'\n",
        "    output_path = 'output_video.mp4'\n",
        "    create_3d_video(input_folder, output_path)"
      ],
      "metadata": {
        "colab": {
          "base_uri": "https://localhost:8080/"
        },
        "id": "iAKTI7v_69Kf",
        "outputId": "18d0fce4-40ab-48e8-f9ee-8128d3e156e3"
      },
      "execution_count": null,
      "outputs": [
        {
          "output_type": "stream",
          "name": "stdout",
          "text": [
            "Loading first point cloud to check coordinates...\n",
            "Point cloud bounds before centering:\n",
            "X: [-111.78, 63.36]\n",
            "Y: [-111.77, 14.33]\n",
            "Z: [2.00, 255.00]\n",
            "\n",
            "Point cloud bounds after processing:\n",
            "X: [-0.33, 0.26]\n",
            "Y: [-0.10, 0.32]\n",
            "Z: [-0.35, 0.50]\n"
          ]
        },
        {
          "output_type": "stream",
          "name": "stderr",
          "text": [
            "\rProcessing frames:   0%|          | 0/58 [00:00<?, ?it/s]"
          ]
        },
        {
          "output_type": "stream",
          "name": "stdout",
          "text": [
            "Point cloud bounds before centering:\n",
            "X: [-111.78, 63.36]\n",
            "Y: [-111.77, 14.33]\n",
            "Z: [2.00, 255.00]\n"
          ]
        },
        {
          "output_type": "stream",
          "name": "stderr",
          "text": [
            "\rProcessing frames:   2%|▏         | 1/58 [01:39<1:34:21, 99.33s/it]"
          ]
        },
        {
          "output_type": "stream",
          "name": "stdout",
          "text": [
            "Point cloud bounds before centering:\n",
            "X: [-112.70, 61.66]\n",
            "Y: [-113.14, 14.33]\n",
            "Z: [2.00, 255.00]\n"
          ]
        },
        {
          "output_type": "stream",
          "name": "stderr",
          "text": [
            "\rProcessing frames:   3%|▎         | 2/58 [03:13<1:29:56, 96.37s/it]"
          ]
        },
        {
          "output_type": "stream",
          "name": "stdout",
          "text": [
            "Point cloud bounds before centering:\n",
            "X: [-110.86, 58.27]\n",
            "Y: [-113.14, 14.33]\n",
            "Z: [1.00, 255.00]\n"
          ]
        },
        {
          "output_type": "stream",
          "name": "stderr",
          "text": [
            "\rProcessing frames:   5%|▌         | 3/58 [04:49<1:27:58, 95.97s/it]"
          ]
        },
        {
          "output_type": "stream",
          "name": "stdout",
          "text": [
            "Point cloud bounds before centering:\n",
            "X: [-109.48, 57.37]\n",
            "Y: [-113.59, 14.33]\n",
            "Z: [4.00, 255.00]\n"
          ]
        },
        {
          "output_type": "stream",
          "name": "stderr",
          "text": [
            "\rProcessing frames:   7%|▋         | 4/58 [06:25<1:26:29, 96.11s/it]"
          ]
        },
        {
          "output_type": "stream",
          "name": "stdout",
          "text": [
            "Point cloud bounds before centering:\n",
            "X: [-109.47, 55.43]\n",
            "Y: [-113.59, 14.33]\n",
            "Z: [3.00, 255.00]\n"
          ]
        },
        {
          "output_type": "stream",
          "name": "stderr",
          "text": [
            "\rProcessing frames:   9%|▊         | 5/58 [08:00<1:24:27, 95.61s/it]"
          ]
        },
        {
          "output_type": "stream",
          "name": "stdout",
          "text": [
            "Point cloud bounds before centering:\n",
            "X: [-110.82, 55.66]\n",
            "Y: [-113.59, 14.33]\n",
            "Z: [2.00, 255.00]\n"
          ]
        },
        {
          "output_type": "stream",
          "name": "stderr",
          "text": [
            "\rProcessing frames:  10%|█         | 6/58 [09:38<1:23:47, 96.68s/it]"
          ]
        },
        {
          "output_type": "stream",
          "name": "stdout",
          "text": [
            "Point cloud bounds before centering:\n",
            "X: [-110.37, 55.98]\n",
            "Y: [-113.59, 14.33]\n",
            "Z: [2.00, 255.00]\n"
          ]
        },
        {
          "output_type": "stream",
          "name": "stderr",
          "text": [
            "\rProcessing frames:  12%|█▏        | 7/58 [11:20<1:23:33, 98.31s/it]"
          ]
        },
        {
          "output_type": "stream",
          "name": "stdout",
          "text": [
            "Point cloud bounds before centering:\n",
            "X: [-109.94, 56.54]\n",
            "Y: [-113.59, 14.33]\n",
            "Z: [1.00, 255.00]\n"
          ]
        },
        {
          "output_type": "stream",
          "name": "stderr",
          "text": [
            "\rProcessing frames:  14%|█▍        | 8/58 [13:04<1:23:16, 99.94s/it]"
          ]
        },
        {
          "output_type": "stream",
          "name": "stdout",
          "text": [
            "Point cloud bounds before centering:\n",
            "X: [-109.01, 59.68]\n",
            "Y: [-114.05, 14.33]\n",
            "Z: [1.00, 255.00]\n"
          ]
        },
        {
          "output_type": "stream",
          "name": "stderr",
          "text": [
            "\rProcessing frames:  16%|█▌        | 9/58 [14:52<1:23:44, 102.55s/it]"
          ]
        },
        {
          "output_type": "stream",
          "name": "stdout",
          "text": [
            "Point cloud bounds before centering:\n",
            "X: [-109.48, 63.08]\n",
            "Y: [-112.22, 14.33]\n",
            "Z: [1.00, 255.00]\n"
          ]
        },
        {
          "output_type": "stream",
          "name": "stderr",
          "text": [
            "\rProcessing frames:  17%|█▋        | 10/58 [16:44<1:24:31, 105.66s/it]"
          ]
        },
        {
          "output_type": "stream",
          "name": "stdout",
          "text": [
            "Point cloud bounds before centering:\n",
            "X: [-109.48, 61.66]\n",
            "Y: [-113.14, 14.33]\n",
            "Z: [1.00, 255.00]\n"
          ]
        },
        {
          "output_type": "stream",
          "name": "stderr",
          "text": [
            "\rProcessing frames:  19%|█▉        | 11/58 [18:37<1:24:26, 107.80s/it]"
          ]
        },
        {
          "output_type": "stream",
          "name": "stdout",
          "text": [
            "Point cloud bounds before centering:\n",
            "X: [-109.48, 62.08]\n",
            "Y: [-113.14, 14.33]\n",
            "Z: [1.00, 255.00]\n"
          ]
        },
        {
          "output_type": "stream",
          "name": "stderr",
          "text": [
            "\rProcessing frames:  21%|██        | 12/58 [20:33<1:24:33, 110.30s/it]"
          ]
        },
        {
          "output_type": "stream",
          "name": "stdout",
          "text": [
            "Point cloud bounds before centering:\n",
            "X: [-107.64, 61.80]\n",
            "Y: [-114.05, 14.33]\n",
            "Z: [2.00, 255.00]\n"
          ]
        },
        {
          "output_type": "stream",
          "name": "stderr",
          "text": [
            "\rProcessing frames:  22%|██▏       | 13/58 [22:27<1:23:28, 111.29s/it]"
          ]
        },
        {
          "output_type": "stream",
          "name": "stdout",
          "text": [
            "Point cloud bounds before centering:\n",
            "X: [-111.75, 60.69]\n",
            "Y: [-114.96, 14.33]\n",
            "Z: [1.00, 255.00]\n"
          ]
        },
        {
          "output_type": "stream",
          "name": "stderr",
          "text": [
            "\rProcessing frames:  24%|██▍       | 14/58 [24:20<1:22:03, 111.89s/it]"
          ]
        },
        {
          "output_type": "stream",
          "name": "stdout",
          "text": [
            "Point cloud bounds before centering:\n",
            "X: [-112.22, 57.92]\n",
            "Y: [-114.50, 14.16]\n",
            "Z: [1.00, 255.00]\n"
          ]
        },
        {
          "output_type": "stream",
          "name": "stderr",
          "text": [
            "\rProcessing frames:  26%|██▌       | 15/58 [26:10<1:19:46, 111.32s/it]"
          ]
        },
        {
          "output_type": "stream",
          "name": "stdout",
          "text": [
            "Point cloud bounds before centering:\n",
            "X: [-112.69, 61.53]\n",
            "Y: [-114.50, 14.27]\n",
            "Z: [3.00, 255.00]\n"
          ]
        },
        {
          "output_type": "stream",
          "name": "stderr",
          "text": [
            "\rProcessing frames:  28%|██▊       | 16/58 [28:30<1:24:01, 120.05s/it]"
          ]
        },
        {
          "output_type": "stream",
          "name": "stdout",
          "text": [
            "Point cloud bounds before centering:\n",
            "X: [-112.69, 61.11]\n",
            "Y: [-114.50, 14.22]\n",
            "Z: [3.00, 255.00]\n"
          ]
        },
        {
          "output_type": "stream",
          "name": "stderr",
          "text": [
            "\rProcessing frames:  29%|██▉       | 17/58 [30:56<1:27:18, 127.77s/it]"
          ]
        },
        {
          "output_type": "stream",
          "name": "stdout",
          "text": [
            "Point cloud bounds before centering:\n",
            "X: [-115.03, 62.37]\n",
            "Y: [-113.14, 14.33]\n",
            "Z: [1.00, 255.00]\n"
          ]
        },
        {
          "output_type": "stream",
          "name": "stderr",
          "text": [
            "\rProcessing frames:  31%|███       | 18/58 [33:23<1:28:59, 133.48s/it]"
          ]
        },
        {
          "output_type": "stream",
          "name": "stdout",
          "text": [
            "Point cloud bounds before centering:\n",
            "X: [-110.81, 58.20]\n",
            "Y: [-109.03, 14.33]\n",
            "Z: [3.00, 255.00]\n"
          ]
        },
        {
          "output_type": "stream",
          "name": "stderr",
          "text": [
            "\rProcessing frames:  33%|███▎      | 19/58 [35:41<1:27:38, 134.84s/it]"
          ]
        },
        {
          "output_type": "stream",
          "name": "stdout",
          "text": [
            "Point cloud bounds before centering:\n",
            "X: [-105.64, 62.37]\n",
            "Y: [-104.92, 14.33]\n",
            "Z: [1.00, 255.00]\n"
          ]
        },
        {
          "output_type": "stream",
          "name": "stderr",
          "text": [
            "\rProcessing frames:  34%|███▍      | 20/58 [37:50<1:24:25, 133.31s/it]"
          ]
        },
        {
          "output_type": "stream",
          "name": "stdout",
          "text": [
            "Point cloud bounds before centering:\n",
            "X: [-97.59, 51.41]\n",
            "Y: [-94.43, 14.33]\n",
            "Z: [2.00, 255.00]\n"
          ]
        },
        {
          "output_type": "stream",
          "name": "stderr",
          "text": [
            "\rProcessing frames:  36%|███▌      | 21/58 [39:41<1:18:02, 126.56s/it]"
          ]
        },
        {
          "output_type": "stream",
          "name": "stdout",
          "text": [
            "Point cloud bounds before centering:\n",
            "X: [-99.07, 52.82]\n",
            "Y: [-94.95, 14.33]\n",
            "Z: [2.00, 255.00]\n"
          ]
        },
        {
          "output_type": "stream",
          "name": "stderr",
          "text": [
            "\rProcessing frames:  38%|███▊      | 22/58 [41:37<1:13:53, 123.16s/it]"
          ]
        },
        {
          "output_type": "stream",
          "name": "stdout",
          "text": [
            "Point cloud bounds before centering:\n",
            "X: [-91.46, 50.85]\n",
            "Y: [-85.86, 14.33]\n",
            "Z: [1.00, 255.00]\n"
          ]
        },
        {
          "output_type": "stream",
          "name": "stderr",
          "text": [
            "\rProcessing frames:  40%|███▉      | 23/58 [43:16<1:07:41, 116.04s/it]"
          ]
        },
        {
          "output_type": "stream",
          "name": "stdout",
          "text": [
            "Point cloud bounds before centering:\n",
            "X: [-89.21, 50.07]\n",
            "Y: [-83.48, 14.33]\n",
            "Z: [1.00, 255.00]\n"
          ]
        },
        {
          "output_type": "stream",
          "name": "stderr",
          "text": [
            "\rProcessing frames:  41%|████▏     | 24/58 [44:52<1:02:16, 109.89s/it]"
          ]
        },
        {
          "output_type": "stream",
          "name": "stdout",
          "text": [
            "Point cloud bounds before centering:\n",
            "X: [-94.37, 52.61]\n",
            "Y: [-86.68, 14.33]\n",
            "Z: [1.00, 255.00]\n"
          ]
        },
        {
          "output_type": "stream",
          "name": "stderr",
          "text": [
            "\rProcessing frames:  43%|████▎     | 25/58 [46:35<59:21, 107.93s/it]  "
          ]
        },
        {
          "output_type": "stream",
          "name": "stdout",
          "text": [
            "Point cloud bounds before centering:\n",
            "X: [-93.90, 50.91]\n",
            "Y: [-85.76, 14.33]\n",
            "Z: [1.00, 255.00]\n"
          ]
        },
        {
          "output_type": "stream",
          "name": "stderr",
          "text": [
            "\rProcessing frames:  45%|████▍     | 26/58 [48:17<56:40, 106.26s/it]"
          ]
        },
        {
          "output_type": "stream",
          "name": "stdout",
          "text": [
            "Point cloud bounds before centering:\n",
            "X: [-105.13, 57.70]\n",
            "Y: [-93.52, 14.33]\n",
            "Z: [1.00, 255.00]\n"
          ]
        },
        {
          "output_type": "stream",
          "name": "stderr",
          "text": [
            "\rProcessing frames:  47%|████▋     | 27/58 [50:08<55:33, 107.54s/it]"
          ]
        },
        {
          "output_type": "stream",
          "name": "stdout",
          "text": [
            "Point cloud bounds before centering:\n",
            "X: [-108.90, 59.28]\n",
            "Y: [-96.26, 14.33]\n",
            "Z: [1.00, 255.00]\n"
          ]
        },
        {
          "output_type": "stream",
          "name": "stderr",
          "text": [
            "\rProcessing frames:  48%|████▊     | 28/58 [52:02<54:43, 109.46s/it]"
          ]
        },
        {
          "output_type": "stream",
          "name": "stdout",
          "text": [
            "Point cloud bounds before centering:\n",
            "X: [-107.01, 57.14]\n",
            "Y: [-94.43, 14.33]\n",
            "Z: [3.00, 255.00]\n"
          ]
        },
        {
          "output_type": "stream",
          "name": "stderr",
          "text": [
            "\rProcessing frames:  50%|█████     | 29/58 [53:57<53:46, 111.26s/it]"
          ]
        },
        {
          "output_type": "stream",
          "name": "stdout",
          "text": [
            "Point cloud bounds before centering:\n",
            "X: [-106.54, 58.16]\n",
            "Y: [-94.89, 14.33]\n",
            "Z: [4.00, 255.00]\n"
          ]
        },
        {
          "output_type": "stream",
          "name": "stderr",
          "text": [
            "\rProcessing frames:  52%|█████▏    | 30/58 [55:52<52:26, 112.38s/it]"
          ]
        },
        {
          "output_type": "stream",
          "name": "stdout",
          "text": [
            "Point cloud bounds before centering:\n",
            "X: [-100.41, 52.61]\n",
            "Y: [-91.31, 14.33]\n",
            "Z: [1.00, 255.00]\n"
          ]
        },
        {
          "output_type": "stream",
          "name": "stderr",
          "text": [
            "\rProcessing frames:  53%|█████▎    | 31/58 [57:39<49:49, 110.71s/it]"
          ]
        },
        {
          "output_type": "stream",
          "name": "stdout",
          "text": [
            "Point cloud bounds before centering:\n",
            "X: [-100.41, 55.16]\n",
            "Y: [-93.98, 14.33]\n",
            "Z: [1.00, 255.00]\n"
          ]
        },
        {
          "output_type": "stream",
          "name": "stderr",
          "text": [
            "\rProcessing frames:  55%|█████▌    | 32/58 [59:30<47:59, 110.77s/it]"
          ]
        },
        {
          "output_type": "stream",
          "name": "stdout",
          "text": [
            "Point cloud bounds before centering:\n",
            "X: [-106.54, 56.57]\n",
            "Y: [-99.91, 14.33]\n",
            "Z: [1.00, 255.00]\n"
          ]
        },
        {
          "output_type": "stream",
          "name": "stderr",
          "text": [
            "\rProcessing frames:  57%|█████▋    | 33/58 [1:01:32<47:35, 114.23s/it]"
          ]
        },
        {
          "output_type": "stream",
          "name": "stdout",
          "text": [
            "Point cloud bounds before centering:\n",
            "X: [-99.00, 51.41]\n",
            "Y: [-90.33, 14.33]\n",
            "Z: [1.00, 255.00]\n"
          ]
        },
        {
          "output_type": "stream",
          "name": "stderr",
          "text": [
            "\rProcessing frames:  59%|█████▊    | 34/58 [1:03:26<45:39, 114.15s/it]"
          ]
        },
        {
          "output_type": "stream",
          "name": "stdout",
          "text": [
            "Point cloud bounds before centering:\n",
            "X: [-98.53, 51.48]\n",
            "Y: [-89.95, 14.33]\n",
            "Z: [1.00, 255.00]\n"
          ]
        },
        {
          "output_type": "stream",
          "name": "stderr",
          "text": [
            "\rProcessing frames:  60%|██████    | 35/58 [1:05:21<43:51, 114.40s/it]"
          ]
        },
        {
          "output_type": "stream",
          "name": "stdout",
          "text": [
            "Point cloud bounds before centering:\n",
            "X: [-93.01, 51.76]\n",
            "Y: [-83.94, 13.54]\n",
            "Z: [1.00, 255.00]\n"
          ]
        },
        {
          "output_type": "stream",
          "name": "stderr",
          "text": [
            "\rProcessing frames:  62%|██████▏   | 36/58 [1:07:07<40:58, 111.75s/it]"
          ]
        },
        {
          "output_type": "stream",
          "name": "stdout",
          "text": [
            "Point cloud bounds before centering:\n",
            "X: [-91.19, 52.61]\n",
            "Y: [-84.50, 13.49]\n",
            "Z: [1.00, 255.00]\n"
          ]
        },
        {
          "output_type": "stream",
          "name": "stderr",
          "text": [
            "\rProcessing frames:  64%|██████▍   | 37/58 [1:08:52<38:26, 109.82s/it]"
          ]
        },
        {
          "output_type": "stream",
          "name": "stdout",
          "text": [
            "Point cloud bounds before centering:\n",
            "X: [-93.01, 47.52]\n",
            "Y: [-79.83, 13.77]\n",
            "Z: [1.00, 255.00]\n"
          ]
        },
        {
          "output_type": "stream",
          "name": "stderr",
          "text": [
            "\rProcessing frames:  66%|██████▌   | 38/58 [1:10:40<36:24, 109.22s/it]"
          ]
        },
        {
          "output_type": "stream",
          "name": "stdout",
          "text": [
            "Point cloud bounds before centering:\n",
            "X: [-95.44, 53.46]\n",
            "Y: [-85.31, 13.77]\n",
            "Z: [1.00, 255.00]\n"
          ]
        },
        {
          "output_type": "stream",
          "name": "stderr",
          "text": [
            "\rProcessing frames:  67%|██████▋   | 39/58 [1:12:37<35:17, 111.45s/it]"
          ]
        },
        {
          "output_type": "stream",
          "name": "stdout",
          "text": [
            "Point cloud bounds before centering:\n",
            "X: [-95.44, 53.74]\n",
            "Y: [-85.76, 13.82]\n",
            "Z: [1.00, 255.00]\n"
          ]
        },
        {
          "output_type": "stream",
          "name": "stderr",
          "text": [
            "\rProcessing frames:  69%|██████▉   | 40/58 [1:14:33<33:54, 113.04s/it]"
          ]
        },
        {
          "output_type": "stream",
          "name": "stdout",
          "text": [
            "Point cloud bounds before centering:\n",
            "X: [-102.52, 55.91]\n",
            "Y: [-90.33, 13.43]\n",
            "Z: [2.00, 255.00]\n"
          ]
        },
        {
          "output_type": "stream",
          "name": "stderr",
          "text": [
            "\rProcessing frames:  71%|███████   | 41/58 [1:17:08<35:34, 125.58s/it]"
          ]
        },
        {
          "output_type": "stream",
          "name": "stdout",
          "text": [
            "Point cloud bounds before centering:\n",
            "X: [-101.56, 51.76]\n",
            "Y: [-88.96, 13.94]\n",
            "Z: [1.00, 255.00]\n"
          ]
        },
        {
          "output_type": "stream",
          "name": "stderr",
          "text": [
            "\rProcessing frames:  72%|███████▏  | 42/58 [1:19:13<33:26, 125.40s/it]"
          ]
        },
        {
          "output_type": "stream",
          "name": "stdout",
          "text": [
            "Point cloud bounds before centering:\n",
            "X: [-102.04, 47.80]\n",
            "Y: [-84.85, 13.54]\n",
            "Z: [1.00, 255.00]\n"
          ]
        },
        {
          "output_type": "stream",
          "name": "stderr",
          "text": [
            "\rProcessing frames:  74%|███████▍  | 43/58 [1:21:01<30:02, 120.18s/it]"
          ]
        },
        {
          "output_type": "stream",
          "name": "stdout",
          "text": [
            "Point cloud bounds before centering:\n",
            "X: [-100.60, 50.63]\n",
            "Y: [-85.68, 13.20]\n",
            "Z: [1.00, 255.00]\n"
          ]
        },
        {
          "output_type": "stream",
          "name": "stderr",
          "text": [
            "\rProcessing frames:  76%|███████▌  | 44/58 [1:22:09<24:22, 104.44s/it]"
          ]
        },
        {
          "output_type": "stream",
          "name": "stdout",
          "text": [
            "Point cloud bounds before centering:\n",
            "X: [-101.08, 52.05]\n",
            "Y: [-86.57, 13.26]\n",
            "Z: [1.00, 255.00]\n"
          ]
        },
        {
          "output_type": "stream",
          "name": "stderr",
          "text": [
            "\rProcessing frames:  78%|███████▊  | 45/58 [1:23:15<20:09, 93.06s/it] "
          ]
        },
        {
          "output_type": "stream",
          "name": "stdout",
          "text": [
            "Point cloud bounds before centering:\n",
            "X: [-100.60, 51.48]\n",
            "Y: [-84.40, 12.59]\n",
            "Z: [1.00, 255.00]\n"
          ]
        },
        {
          "output_type": "stream",
          "name": "stderr",
          "text": [
            "\rProcessing frames:  79%|███████▉  | 46/58 [1:24:21<16:58, 84.84s/it]"
          ]
        },
        {
          "output_type": "stream",
          "name": "stdout",
          "text": [
            "Point cloud bounds before centering:\n",
            "X: [-100.12, 47.48]\n",
            "Y: [-84.04, 13.37]\n",
            "Z: [1.00, 255.00]\n"
          ]
        },
        {
          "output_type": "stream",
          "name": "stderr",
          "text": [
            "\rProcessing frames:  81%|████████  | 47/58 [1:25:24<14:21, 78.35s/it]"
          ]
        },
        {
          "output_type": "stream",
          "name": "stdout",
          "text": [
            "Point cloud bounds before centering:\n",
            "X: [-97.73, 48.04]\n",
            "Y: [-81.77, 13.20]\n",
            "Z: [2.00, 255.00]\n"
          ]
        },
        {
          "output_type": "stream",
          "name": "stderr",
          "text": [
            "\rProcessing frames:  83%|████████▎ | 48/58 [1:26:26<12:15, 73.51s/it]"
          ]
        },
        {
          "output_type": "stream",
          "name": "stdout",
          "text": [
            "Point cloud bounds before centering:\n",
            "X: [-98.68, 54.03]\n",
            "Y: [-84.40, 13.60]\n",
            "Z: [1.00, 255.00]\n"
          ]
        },
        {
          "output_type": "stream",
          "name": "stderr",
          "text": [
            "\rProcessing frames:  84%|████████▍ | 49/58 [1:27:30<10:35, 70.62s/it]"
          ]
        },
        {
          "output_type": "stream",
          "name": "stdout",
          "text": [
            "Point cloud bounds before centering:\n",
            "X: [-98.68, 53.74]\n",
            "Y: [-84.40, 13.54]\n",
            "Z: [1.00, 255.00]\n"
          ]
        },
        {
          "output_type": "stream",
          "name": "stderr",
          "text": [
            "\rProcessing frames:  86%|████████▌ | 50/58 [1:28:33<09:06, 68.27s/it]"
          ]
        },
        {
          "output_type": "stream",
          "name": "stdout",
          "text": [
            "Point cloud bounds before centering:\n",
            "X: [-100.30, 52.61]\n",
            "Y: [-84.40, 13.37]\n",
            "Z: [1.00, 255.00]\n"
          ]
        },
        {
          "output_type": "stream",
          "name": "stderr",
          "text": [
            "\rProcessing frames:  88%|████████▊ | 51/58 [1:29:35<07:45, 66.44s/it]"
          ]
        },
        {
          "output_type": "stream",
          "name": "stdout",
          "text": [
            "Point cloud bounds before centering:\n",
            "X: [-100.12, 53.18]\n",
            "Y: [-84.85, 13.04]\n",
            "Z: [1.00, 255.00]\n"
          ]
        },
        {
          "output_type": "stream",
          "name": "stderr",
          "text": [
            "\rProcessing frames:  90%|████████▉ | 52/58 [1:30:38<06:31, 65.27s/it]"
          ]
        },
        {
          "output_type": "stream",
          "name": "stdout",
          "text": [
            "Point cloud bounds before centering:\n",
            "X: [-104.60, 53.38]\n",
            "Y: [-87.59, 13.60]\n",
            "Z: [1.00, 255.00]\n"
          ]
        },
        {
          "output_type": "stream",
          "name": "stderr",
          "text": [
            "\rProcessing frames:  91%|█████████▏| 53/58 [1:31:47<05:31, 66.35s/it]"
          ]
        },
        {
          "output_type": "stream",
          "name": "stdout",
          "text": [
            "Point cloud bounds before centering:\n",
            "X: [-105.04, 51.76]\n",
            "Y: [-86.22, 12.87]\n",
            "Z: [2.00, 255.00]\n"
          ]
        },
        {
          "output_type": "stream",
          "name": "stderr",
          "text": [
            "\rProcessing frames:  93%|█████████▎| 54/58 [1:32:53<04:25, 66.42s/it]"
          ]
        },
        {
          "output_type": "stream",
          "name": "stdout",
          "text": [
            "Point cloud bounds before centering:\n",
            "X: [-105.00, 51.76]\n",
            "Y: [-86.22, 12.92]\n",
            "Z: [2.00, 255.00]\n"
          ]
        },
        {
          "output_type": "stream",
          "name": "stderr",
          "text": [
            "\rProcessing frames:  95%|█████████▍| 55/58 [1:33:58<03:17, 65.83s/it]"
          ]
        },
        {
          "output_type": "stream",
          "name": "stdout",
          "text": [
            "Point cloud bounds before centering:\n",
            "X: [-109.14, 52.89]\n",
            "Y: [-90.23, 13.20]\n",
            "Z: [1.00, 255.00]\n"
          ]
        },
        {
          "output_type": "stream",
          "name": "stderr",
          "text": [
            "\rProcessing frames:  97%|█████████▋| 56/58 [1:35:10<02:15, 67.82s/it]"
          ]
        },
        {
          "output_type": "stream",
          "name": "stdout",
          "text": [
            "Point cloud bounds before centering:\n",
            "X: [-108.63, 52.89]\n",
            "Y: [-90.78, 13.20]\n",
            "Z: [3.00, 255.00]\n"
          ]
        },
        {
          "output_type": "stream",
          "name": "stderr",
          "text": [
            "\rProcessing frames:  98%|█████████▊| 57/58 [1:36:21<01:08, 68.85s/it]"
          ]
        },
        {
          "output_type": "stream",
          "name": "stdout",
          "text": [
            "Point cloud bounds before centering:\n",
            "X: [-112.18, 55.07]\n",
            "Y: [-93.06, 13.82]\n",
            "Z: [3.00, 255.00]\n"
          ]
        },
        {
          "output_type": "stream",
          "name": "stderr",
          "text": [
            "Processing frames: 100%|██████████| 58/58 [1:37:39<00:00, 101.03s/it]"
          ]
        },
        {
          "output_type": "stream",
          "name": "stdout",
          "text": [
            "Video saved as: output_video.mp4\n"
          ]
        },
        {
          "output_type": "stream",
          "name": "stderr",
          "text": [
            "\n"
          ]
        }
      ]
    }
  ]
}